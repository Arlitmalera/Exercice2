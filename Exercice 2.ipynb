{
 "cells": [
  {
   "cell_type": "markdown",
   "id": "82829112",
   "metadata": {},
   "source": [
    "# Resolution des Exercices"
   ]
  },
  {
   "cell_type": "markdown",
   "id": "2580cff3",
   "metadata": {},
   "source": [
    "# Question 1 \n",
    "\n",
    "Écrivez un programme Python qui multiplie tous les éléments d'une liste.\n",
    "\n",
    "Liste d'échantillons = [2,3,6]\n",
    "\n",
    "Résultat = 36"
   ]
  },
  {
   "cell_type": "code",
   "execution_count": 1,
   "id": "f41023ce",
   "metadata": {},
   "outputs": [
    {
     "name": "stdout",
     "output_type": "stream",
     "text": [
      "[36]\n"
     ]
    }
   ],
   "source": [
    "list = [2*3*6]\n",
    "print(list)"
   ]
  },
  {
   "cell_type": "markdown",
   "id": "7876add5",
   "metadata": {},
   "source": [
    "# question 2\n",
    "\n",
    "Écrivez un programme Python pour obtenir une liste, triée par ordre croissant par le dernier élément de chaque tuple, à partir d'une liste donnée de tuples non vides.\n",
    "\n",
    "Liste d'échantillons : [(2, 5), (1, 2), (4, 4), (2, 3), (2, 1)]\n",
    "\n",
    "Résultat attendu : [(2, 1), (1, 2), (2, 3), (4, 4), (2, 5)]\n",
    "\n",
    "Astuce : Vous pouvez utiliser la fonction de tri."
   ]
  },
  {
   "cell_type": "code",
   "execution_count": 18,
   "id": "dab8c554",
   "metadata": {},
   "outputs": [
    {
     "name": "stdout",
     "output_type": "stream",
     "text": [
      "[(1, 2), (2, 1), (2, 3), (2, 5), (4, 4)]\n"
     ]
    }
   ],
   "source": [
    "list = [(2,5),(1,2),(4,4),(2,3),(2,1)]\n",
    "list.sort()\n",
    "#list.reverse()\n",
    "print(list)"
   ]
  },
  {
   "cell_type": "markdown",
   "id": "608da668",
   "metadata": {},
   "source": [
    "# question 3 \n",
    "\n",
    "Écrivez un programme Python qui combine deux dictionnaires en ajoutant des valeurs pour les clés communes.\n",
    "\n",
    "d1 = {'a' : 100, 'b' : 200, 'c' : 300}\n",
    "\n",
    "d2 = {'a' : 300, 'b' : 200, 'd' : 400}\n",
    "\n",
    "Résultat attendu : {'a' : 400, 'b' : 400, 'd' : 400, 'c' : 300}"
   ]
  },
  {
   "cell_type": "code",
   "execution_count": 37,
   "id": "f73f0e9e",
   "metadata": {},
   "outputs": [
    {
     "name": "stdout",
     "output_type": "stream",
     "text": [
      "{'a': 100, 'b': 200, 'd': 400, 'c': 300}\n"
     ]
    }
   ],
   "source": [
    "d1 = {'a' : 100, 'b' : 200, 'c' : 300}\n",
    "d2 = {'a' : 300, 'b' :200, 'd' : 400 } \n",
    "d2.update(d1)\n",
    "print(d2)"
   ]
  },
  {
   "cell_type": "markdown",
   "id": "119242af",
   "metadata": {},
   "source": [
    "# question 4\n",
    "\n",
    "Avec un nombre entier n donné, écrivez un programme pour générer un dictionnaire qui contient (i, i*i) de sorte qu'il soit un nombre entier entre 1 et n (les deux inclus). Ensuite, le programme doit imprimer le dictionnaire. Supposons que l'entrée suivante soit fournie au programme : 8. Ensuite, la sortie doit être : {1 : 1, 2 : 4, 3 : 9, 4 : 16, 5 : 25, 6 : 36, 7 : 49, 8 : 64}"
   ]
  },
  {
   "cell_type": "code",
   "execution_count": 6,
   "id": "3295bfa5",
   "metadata": {},
   "outputs": [
    {
     "name": "stdout",
     "output_type": "stream",
     "text": [
      "Mettez la valeur de n: 8\n",
      "{1: 1}\n",
      "{1: 2}\n",
      "{1: 3}\n",
      "{1: 4}\n",
      "{1: 5}\n",
      "{1: 6}\n",
      "{1: 7}\n",
      "{1: 8}\n"
     ]
    }
   ],
   "source": [
    "n = int(input(\"Mettez la valeur de n: \"))\n",
    "for i in range(n):\n",
    "    print({1 :1*i+1})"
   ]
  },
  {
   "cell_type": "markdown",
   "id": "37ed0ed8",
   "metadata": {},
   "source": [
    "# question 5\n",
    "\n",
    "Écrivez un programme pour trier un tuple par son élément flottant.\n",
    "\n",
    "Par exemple : list= [('item1', '12.20'), ('item2', '15.10'), ('item3', '24.5')]\n",
    "\n",
    "Résultat attendu : [('item3', '24.5'), ('item2', '15.10'), ('item1', '12.20')]"
   ]
  },
  {
   "cell_type": "code",
   "execution_count": 13,
   "id": "76494eb5",
   "metadata": {},
   "outputs": [
    {
     "name": "stdout",
     "output_type": "stream",
     "text": [
      "[('item3', '24.5'), ('item2', '15.10'), ('item1', '12.20')]\n"
     ]
    }
   ],
   "source": [
    "list = [('item1', '12.20'), ('item2', '15.10'), ('item3', '24.5')]\n",
    "list.sort()\n",
    "list.reverse()\n",
    "print(list)"
   ]
  },
  {
   "cell_type": "markdown",
   "id": "3eeb5d28",
   "metadata": {},
   "source": [
    "# question 6\n",
    "\n",
    "Écrivez un programme Python pour créer un ensemble.\n",
    "\n",
    "Exemples : {0, 1, 2, 3, 4}\n",
    "\n",
    "Écrivez un programme Python pour itérer sur des ensembles.\n",
    "\n",
    "Écrivez un programme Python pour ajouter des membres dans un ensemble et pour supprimer des éléments d'un ensemble donné."
   ]
  },
  {
   "cell_type": "code",
   "execution_count": 29,
   "id": "ddcadc2e",
   "metadata": {},
   "outputs": [
    {
     "name": "stdout",
     "output_type": "stream",
     "text": [
      "{5, 6, 7, 8, 9}\n"
     ]
    }
   ],
   "source": [
    "a = {5, 6, 7, 8, 9}\n",
    "print(a)"
   ]
  },
  {
   "cell_type": "code",
   "execution_count": 30,
   "id": "77894d5b",
   "metadata": {},
   "outputs": [
    {
     "data": {
      "text/plain": [
       "5"
      ]
     },
     "execution_count": 30,
     "metadata": {},
     "output_type": "execute_result"
    }
   ],
   "source": [
    "a = {5, 6, 7, 8, 9}\n",
    "it = iter(a)\n",
    "next(it)"
   ]
  },
  {
   "cell_type": "code",
   "execution_count": 32,
   "id": "f2620305",
   "metadata": {},
   "outputs": [
    {
     "name": "stdout",
     "output_type": "stream",
     "text": [
      "{5, 6, 7, 8, 9, 10}\n"
     ]
    }
   ],
   "source": [
    "a = {5, 6, 7, 8, 9}\n",
    "a.add(10)\n",
    "print(a)"
   ]
  },
  {
   "cell_type": "code",
   "execution_count": 33,
   "id": "06a4d020",
   "metadata": {},
   "outputs": [
    {
     "name": "stdout",
     "output_type": "stream",
     "text": [
      "{5, 7, 8, 9}\n"
     ]
    }
   ],
   "source": [
    "a = {5, 6, 7, 8, 9}\n",
    "a.remove(6)\n",
    "print(a)"
   ]
  }
 ],
 "metadata": {
  "kernelspec": {
   "display_name": "Python 3 (ipykernel)",
   "language": "python",
   "name": "python3"
  },
  "language_info": {
   "codemirror_mode": {
    "name": "ipython",
    "version": 3
   },
   "file_extension": ".py",
   "mimetype": "text/x-python",
   "name": "python",
   "nbconvert_exporter": "python",
   "pygments_lexer": "ipython3",
   "version": "3.9.13"
  }
 },
 "nbformat": 4,
 "nbformat_minor": 5
}
